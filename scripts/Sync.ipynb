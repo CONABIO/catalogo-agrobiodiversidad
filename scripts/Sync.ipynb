{
 "cells": [
  {
   "cell_type": "markdown",
   "metadata": {},
   "source": [
    "# Sincronizar CAT y lista local de agrobd"
   ]
  },
  {
   "cell_type": "code",
   "execution_count": 1,
   "metadata": {},
   "outputs": [],
   "source": [
    "import json\n",
    "import pandas as pd\n",
    "import requests\n",
    "\n",
    "# local import\n",
    "from paths import *"
   ]
  },
  {
   "cell_type": "code",
   "execution_count": 33,
   "metadata": {},
   "outputs": [],
   "source": [
    "def getInfoTaxon(record_id):\n",
    "    '''\n",
    "    Hace una consulta a zacatuche para obtener la información que se necesita de un id.\n",
    "    Devuelve una pandas.Series con la información solicitada en la query.\n",
    "    '''\n",
    "    query = \"\"\"query taxon{\n",
    "                dwcTaxon(taxonID:\"\"\"+\"\\\"\"+record_id+\"\\\"\"+\"\"\"){\n",
    "                            id\n",
    "                            taxonomicStatus\n",
    "                            scientificName\n",
    "                            acceptedNameUsage{\n",
    "                            id\n",
    "                            scientificName\n",
    "                            }\n",
    "                        }\n",
    "                        }\"\"\"\n",
    "    \n",
    "    # ¿conviene renombrar todas las columnas? Sí\n",
    "    New_col_names = {'acceptedNameUsage.id': 'id_valido',\n",
    "                     'acceptedNameUsage.scientificName' : 'taxon_valido'\n",
    "                    }\n",
    "\n",
    "    path_zacatuche = 'http://zacatuche2.conabio.gob.mx:4000/graphql'\n",
    "    r = requests.post(path_zacatuche, json={'query': query})\n",
    "\n",
    "    # TO DO: check that response.status = 200, else print error to log\n",
    "\n",
    "    json_data = json.loads(r.text)\n",
    "\n",
    "    # case when id is not in CAT\n",
    "    if json_data['data']['dwcTaxon'] is None:\n",
    "        return None\n",
    "\n",
    "    # case when there is no id_valido associated to id\n",
    "    if json_data['data']['dwcTaxon']['acceptedNameUsage'] is None:\n",
    "        df_data = pd.json_normalize(json_data['data']['dwcTaxon'])\n",
    "        df_data[['id_valido', 'taxon_valido']] = None, None\n",
    "        return df_data.loc[0]\n",
    "    \n",
    "    df_data = pd.json_normalize(json_data['data']['dwcTaxon'])\n",
    "    df_data = (df_data.rename(columns = New_col_names)\n",
    "                          .fillna(''))\n",
    "    \n",
    "    return df_data.loc[0]"
   ]
  },
  {
   "cell_type": "code",
   "execution_count": 34,
   "metadata": {},
   "outputs": [],
   "source": [
    "test = getInfoTaxon('44557ANGIOx')"
   ]
  },
  {
   "cell_type": "code",
   "execution_count": 35,
   "metadata": {},
   "outputs": [],
   "source": [
    "test"
   ]
  },
  {
   "cell_type": "code",
   "execution_count": null,
   "metadata": {},
   "outputs": [],
   "source": []
  },
  {
   "cell_type": "code",
   "execution_count": 48,
   "metadata": {},
   "outputs": [],
   "source": [
    "def updateLocal(agrobd_id, New_values):\n",
    "    '''\n",
    "    Realiza las modificaciones en la base de catalogo-agrobiodiversidad de los campos que se le pasen como parámetro.\n",
    "    '''\n",
    "    New_values['usuario'] = 'Bot validación'\n",
    "    \n",
    "    # ¿Cómo deben aparecer los valores vacíos? \n",
    "    new_values = ''  \n",
    "    for field in New_values:\n",
    "        new_values += f'{field}: \\\"{New_values[field]}\\\" \\n'\n",
    "\n",
    "    query = f'''mutation{{\n",
    "                updateAgrobiodiversidad(\n",
    "                    id:\"{agrobd_id}\"\n",
    "                    {new_values}){{\n",
    "                    id\n",
    "                }}\n",
    "                }}'''\n",
    "    requests.post(paths.siagro, json={'query': query})"
   ]
  },
  {
   "cell_type": "code",
   "execution_count": 8,
   "metadata": {},
   "outputs": [],
   "source": [
    "def is_synonym(record):  \n",
    "    return (record['id_valido']) and (record['id'] != record['id_valido'])"
   ]
  },
  {
   "cell_type": "code",
   "execution_count": null,
   "metadata": {},
   "outputs": [],
   "source": [
    "def request_agrobd_review(record):\n",
    "    # if record doesn't have agrobd label, request review\n",
    "    if not record['categoria_agrobiodiversidad'] == 'Agrobiodiversidad':\n",
    "        note = record['comentarios_revision'] + '\\n REVISAR ETIQUETA AGROBIODIVERSIDAD'\n",
    "        updateLocal(record['id'], {'comentarios_revision': note})"
   ]
  },
  {
   "cell_type": "code",
   "execution_count": null,
   "metadata": {},
   "outputs": [],
   "source": [
    "def delete_agrobd_label(agrobd):\n",
    "    # TO DO: also delete subcategoria_agrobiodiversidad\n",
    "    # TO DO: cómo poner campos vacíos    \n",
    "    updateLocal(agrobd['id'], {'categoria_agrobiodiversidad': ''})"
   ]
  },
  {
   "cell_type": "code",
   "execution_count": null,
   "metadata": {},
   "outputs": [],
   "source": [
    "def id_is_in_agrobd_list(record_id, agrobd_list):\n",
    "    # TO DO: test this func\n",
    "    return record_id in agrobd_list['id']"
   ]
  },
  {
   "cell_type": "code",
   "execution_count": null,
   "metadata": {},
   "outputs": [],
   "source": [
    "def add_id_to_agrobd_list(record):\n",
    "    query = f'''mutation{{\n",
    "                addAgrobiodiversidad(\n",
    "                    id:\"{record['id']}\"\n",
    "                    taxon:\"{record['taxon']}\"\n",
    "                    estatus:\"{record['estatus']}\"\n",
    "                    id_valido:\"{record['id_valido']}\"\n",
    "                    taxon_valido:\"{record['taxon_valido']}\"){{\n",
    "                    id\n",
    "                }}\n",
    "                }}'''\n",
    "    requests.post(paths.siagro, json={'query': query})"
   ]
  },
  {
   "cell_type": "code",
   "execution_count": null,
   "metadata": {},
   "outputs": [],
   "source": [
    "def add_agrobd_label(record):\n",
    "    # TO DO: add subcategoria_agrobiodiversidad y referencias\n",
    "    updateLocal(record['id'], {'categoria_agrobiodiversidad': 'Agrobiodiversidad'})"
   ]
  },
  {
   "cell_type": "code",
   "execution_count": null,
   "metadata": {},
   "outputs": [],
   "source": [
    "def change(agrobd, catalog):\n",
    "    # sync estatus, id_valido, taxon_valido\n",
    "    updateLocal(agrobd['id'], {'estatus': catalog['taxonomicStatus'],\n",
    "                    'id_valido': catalog['id_valido'],\n",
    "                    'taxon_valido': catalog['taxon_valido']\n",
    "                    })\n",
    "\n",
    "    # sinonimo to valido OR NA to valido\n",
    "    if agrobd['id'] == catalog['id_valido']:\n",
    "        request_agrobd_review(agrobd)\n",
    "    \n",
    "    # valido to NA\n",
    "    elif (agrobd['id'] == agrobd['id_valido']) and (not catalog['id_valido']):\n",
    "        delete_agrobd_label(agrobd)\n",
    "    \n",
    "    # sinonimo to sinonimo\n",
    "    elif is_synonym(agrobd) and is_synonym(catalog):\n",
    "        if not id_is_in_agrobd_list(catalog['id_valido']):\n",
    "            add_id_to_agrobd_list(catalog['id_valido'])\n",
    "            request_agrobd_review(catalog['id_valido'])\n",
    "    \n",
    "    # valido to sinonimo\n",
    "    elif (agrobd['id'] == agrobd['id_valido']) and is_synonym(catalog):\n",
    "        delete_agrobd_label(agrobd['id'])\n",
    "        if not id_is_in_agrobd_list(catalog['id_valido']):\n",
    "            add_id_to_agrobd_list(catalog['id_valido'])\n",
    "        \n",
    "        add_agrobd_label(catalog['id'])\n",
    "    "
   ]
  },
  {
   "cell_type": "code",
   "execution_count": null,
   "metadata": {},
   "outputs": [],
   "source": [
    "def sync_agrobd_to_catalog(agrobd_list):\n",
    "\n",
    "    sin_taxon_valido_asociado = []\n",
    "\n",
    "    for i, agrobd in agrobd_list.iterrows():\n",
    "        if 'pendiente' in agrobd['id']:\n",
    "            continue\n",
    "\n",
    "        catalog = getInfoTaxon(agrobd['id'])\n",
    "\n",
    "        if catalog is None:\n",
    "            sin_taxon_valido_asociado.append(agrobd['id'])\n",
    "            continue\n",
    "\n",
    "        if agrobd['id_valido'] != catalog['id_valido']:\n",
    "            # identify transition\n",
    "            \n",
    "            # changes\n",
    "            pass\n",
    "\n",
    "        if agrobd['taxon'] != catalog['scientificName']:\n",
    "            updateLocal(agrobd['id'], {'taxon': catalog['taxon_valido']})\n",
    "    \n",
    "    sendeMail(sin_taxon_valido_asociado)\n"
   ]
  }
 ],
 "metadata": {
  "interpreter": {
   "hash": "83660322a1cb27441eef23ff8690809cf8528f9fce015b26843fd8df74326ca6"
  },
  "kernelspec": {
   "display_name": "Python 3.8.8 ('conabio')",
   "language": "python",
   "name": "python3"
  },
  "language_info": {
   "codemirror_mode": {
    "name": "ipython",
    "version": 3
   },
   "file_extension": ".py",
   "mimetype": "text/x-python",
   "name": "python",
   "nbconvert_exporter": "python",
   "pygments_lexer": "ipython3",
   "version": "3.8.8"
  },
  "orig_nbformat": 4
 },
 "nbformat": 4,
 "nbformat_minor": 2
}
